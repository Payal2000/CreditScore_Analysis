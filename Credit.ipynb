{
 "cells": [
  {
   "cell_type": "code",
   "execution_count": 1,
   "metadata": {},
   "outputs": [],
   "source": [
    "import pandas as pd\n",
    "import plotly.graph_objects as go\n",
    "import plotly.express as px\n",
    "import plotly.io as pio\n",
    "pio.templates.default = \"plotly_white\""
   ]
  },
  {
   "cell_type": "code",
   "execution_count": 2,
   "metadata": {},
   "outputs": [],
   "source": [
    "data = pd.read_csv(\"credit_scoring.csv\")"
   ]
  },
  {
   "cell_type": "code",
   "execution_count": 3,
   "metadata": {},
   "outputs": [
    {
     "data": {
      "text/html": [
       "<div>\n",
       "<style scoped>\n",
       "    .dataframe tbody tr th:only-of-type {\n",
       "        vertical-align: middle;\n",
       "    }\n",
       "\n",
       "    .dataframe tbody tr th {\n",
       "        vertical-align: top;\n",
       "    }\n",
       "\n",
       "    .dataframe thead th {\n",
       "        text-align: right;\n",
       "    }\n",
       "</style>\n",
       "<table border=\"1\" class=\"dataframe\">\n",
       "  <thead>\n",
       "    <tr style=\"text-align: right;\">\n",
       "      <th></th>\n",
       "      <th>Age</th>\n",
       "      <th>Gender</th>\n",
       "      <th>Marital Status</th>\n",
       "      <th>Education Level</th>\n",
       "      <th>Employment Status</th>\n",
       "      <th>Credit Utilization Ratio</th>\n",
       "      <th>Payment History</th>\n",
       "      <th>Number of Credit Accounts</th>\n",
       "      <th>Loan Amount</th>\n",
       "      <th>Interest Rate</th>\n",
       "      <th>Loan Term</th>\n",
       "      <th>Type of Loan</th>\n",
       "    </tr>\n",
       "  </thead>\n",
       "  <tbody>\n",
       "    <tr>\n",
       "      <th>0</th>\n",
       "      <td>60</td>\n",
       "      <td>Male</td>\n",
       "      <td>Married</td>\n",
       "      <td>Master</td>\n",
       "      <td>Employed</td>\n",
       "      <td>0.22</td>\n",
       "      <td>2685.0</td>\n",
       "      <td>2</td>\n",
       "      <td>4675000</td>\n",
       "      <td>2.65</td>\n",
       "      <td>48</td>\n",
       "      <td>Personal Loan</td>\n",
       "    </tr>\n",
       "    <tr>\n",
       "      <th>1</th>\n",
       "      <td>25</td>\n",
       "      <td>Male</td>\n",
       "      <td>Married</td>\n",
       "      <td>High School</td>\n",
       "      <td>Unemployed</td>\n",
       "      <td>0.20</td>\n",
       "      <td>2371.0</td>\n",
       "      <td>9</td>\n",
       "      <td>3619000</td>\n",
       "      <td>5.19</td>\n",
       "      <td>60</td>\n",
       "      <td>Auto Loan</td>\n",
       "    </tr>\n",
       "    <tr>\n",
       "      <th>2</th>\n",
       "      <td>30</td>\n",
       "      <td>Female</td>\n",
       "      <td>Single</td>\n",
       "      <td>Master</td>\n",
       "      <td>Employed</td>\n",
       "      <td>0.22</td>\n",
       "      <td>2771.0</td>\n",
       "      <td>6</td>\n",
       "      <td>957000</td>\n",
       "      <td>2.76</td>\n",
       "      <td>12</td>\n",
       "      <td>Auto Loan</td>\n",
       "    </tr>\n",
       "    <tr>\n",
       "      <th>3</th>\n",
       "      <td>58</td>\n",
       "      <td>Female</td>\n",
       "      <td>Married</td>\n",
       "      <td>PhD</td>\n",
       "      <td>Unemployed</td>\n",
       "      <td>0.12</td>\n",
       "      <td>1371.0</td>\n",
       "      <td>2</td>\n",
       "      <td>4731000</td>\n",
       "      <td>6.57</td>\n",
       "      <td>60</td>\n",
       "      <td>Auto Loan</td>\n",
       "    </tr>\n",
       "    <tr>\n",
       "      <th>4</th>\n",
       "      <td>32</td>\n",
       "      <td>Male</td>\n",
       "      <td>Married</td>\n",
       "      <td>Bachelor</td>\n",
       "      <td>Self-Employed</td>\n",
       "      <td>0.99</td>\n",
       "      <td>828.0</td>\n",
       "      <td>2</td>\n",
       "      <td>3289000</td>\n",
       "      <td>6.28</td>\n",
       "      <td>36</td>\n",
       "      <td>Personal Loan</td>\n",
       "    </tr>\n",
       "  </tbody>\n",
       "</table>\n",
       "</div>"
      ],
      "text/plain": [
       "   Age  Gender Marital Status Education Level Employment Status  \\\n",
       "0   60    Male        Married          Master          Employed   \n",
       "1   25    Male        Married     High School        Unemployed   \n",
       "2   30  Female         Single          Master          Employed   \n",
       "3   58  Female        Married             PhD        Unemployed   \n",
       "4   32    Male        Married        Bachelor     Self-Employed   \n",
       "\n",
       "   Credit Utilization Ratio  Payment History  Number of Credit Accounts  \\\n",
       "0                      0.22           2685.0                          2   \n",
       "1                      0.20           2371.0                          9   \n",
       "2                      0.22           2771.0                          6   \n",
       "3                      0.12           1371.0                          2   \n",
       "4                      0.99            828.0                          2   \n",
       "\n",
       "   Loan Amount  Interest Rate  Loan Term   Type of Loan  \n",
       "0      4675000           2.65         48  Personal Loan  \n",
       "1      3619000           5.19         60      Auto Loan  \n",
       "2       957000           2.76         12      Auto Loan  \n",
       "3      4731000           6.57         60      Auto Loan  \n",
       "4      3289000           6.28         36  Personal Loan  "
      ]
     },
     "execution_count": 3,
     "metadata": {},
     "output_type": "execute_result"
    }
   ],
   "source": [
    "data.head()"
   ]
  },
  {
   "cell_type": "code",
   "execution_count": 4,
   "metadata": {},
   "outputs": [
    {
     "data": {
      "text/plain": [
       "(1000, 12)"
      ]
     },
     "execution_count": 4,
     "metadata": {},
     "output_type": "execute_result"
    }
   ],
   "source": [
    "data.shape"
   ]
  },
  {
   "cell_type": "code",
   "execution_count": 5,
   "metadata": {},
   "outputs": [
    {
     "data": {
      "text/plain": [
       "<bound method NDFrame.describe of      Age  Gender Marital Status Education Level Employment Status  \\\n",
       "0     60    Male        Married          Master          Employed   \n",
       "1     25    Male        Married     High School        Unemployed   \n",
       "2     30  Female         Single          Master          Employed   \n",
       "3     58  Female        Married             PhD        Unemployed   \n",
       "4     32    Male        Married        Bachelor     Self-Employed   \n",
       "..   ...     ...            ...             ...               ...   \n",
       "995   59    Male       Divorced     High School          Employed   \n",
       "996   64    Male       Divorced        Bachelor        Unemployed   \n",
       "997   63  Female         Single          Master     Self-Employed   \n",
       "998   51  Female        Married             PhD     Self-Employed   \n",
       "999   37  Female        Married          Master     Self-Employed   \n",
       "\n",
       "     Credit Utilization Ratio  Payment History  Number of Credit Accounts  \\\n",
       "0                        0.22           2685.0                          2   \n",
       "1                        0.20           2371.0                          9   \n",
       "2                        0.22           2771.0                          6   \n",
       "3                        0.12           1371.0                          2   \n",
       "4                        0.99            828.0                          2   \n",
       "..                        ...              ...                        ...   \n",
       "995                      0.74           1285.0                          8   \n",
       "996                      0.77           1857.0                          2   \n",
       "997                      0.18           2628.0                         10   \n",
       "998                      0.32           1142.0                          3   \n",
       "999                      0.17           1028.0                          5   \n",
       "\n",
       "     Loan Amount  Interest Rate  Loan Term   Type of Loan  \n",
       "0        4675000           2.65         48  Personal Loan  \n",
       "1        3619000           5.19         60      Auto Loan  \n",
       "2         957000           2.76         12      Auto Loan  \n",
       "3        4731000           6.57         60      Auto Loan  \n",
       "4        3289000           6.28         36  Personal Loan  \n",
       "..           ...            ...        ...            ...  \n",
       "995      3530000          12.99         48      Auto Loan  \n",
       "996      1377000          18.02         60      Home Loan  \n",
       "997      2443000          18.95         12  Personal Loan  \n",
       "998      1301000           1.80         24      Auto Loan  \n",
       "999      4182000           9.34         24      Auto Loan  \n",
       "\n",
       "[1000 rows x 12 columns]>"
      ]
     },
     "execution_count": 5,
     "metadata": {},
     "output_type": "execute_result"
    }
   ],
   "source": [
    "data.describe"
   ]
  },
  {
   "cell_type": "code",
   "execution_count": 6,
   "metadata": {},
   "outputs": [
    {
     "name": "stdout",
     "output_type": "stream",
     "text": [
      "<class 'pandas.core.frame.DataFrame'>\n",
      "RangeIndex: 1000 entries, 0 to 999\n",
      "Data columns (total 12 columns):\n",
      " #   Column                     Non-Null Count  Dtype  \n",
      "---  ------                     --------------  -----  \n",
      " 0   Age                        1000 non-null   int64  \n",
      " 1   Gender                     1000 non-null   object \n",
      " 2   Marital Status             1000 non-null   object \n",
      " 3   Education Level            1000 non-null   object \n",
      " 4   Employment Status          1000 non-null   object \n",
      " 5   Credit Utilization Ratio   1000 non-null   float64\n",
      " 6   Payment History            1000 non-null   float64\n",
      " 7   Number of Credit Accounts  1000 non-null   int64  \n",
      " 8   Loan Amount                1000 non-null   int64  \n",
      " 9   Interest Rate              1000 non-null   float64\n",
      " 10  Loan Term                  1000 non-null   int64  \n",
      " 11  Type of Loan               1000 non-null   object \n",
      "dtypes: float64(3), int64(4), object(5)\n",
      "memory usage: 93.9+ KB\n"
     ]
    }
   ],
   "source": [
    "data.info()"
   ]
  },
  {
   "cell_type": "markdown",
   "metadata": {},
   "source": [
    " Distribution of the credit utilization ratio in the data:"
   ]
  },
  {
   "cell_type": "code",
   "execution_count": 10,
   "metadata": {},
   "outputs": [
    {
     "data": {
      "application/vnd.plotly.v1+json": {
       "config": {
        "plotlyServerURL": "https://plot.ly"
       },
       "data": [
        {
         "alignmentgroup": "True",
         "hovertemplate": "Credit Utilization Ratio=%{y}<extra></extra>",
         "legendgroup": "",
         "marker": {
          "color": "#636efa"
         },
         "name": "",
         "notched": false,
         "offsetgroup": "",
         "orientation": "v",
         "showlegend": false,
         "type": "box",
         "x0": " ",
         "xaxis": "x",
         "y": [
          0.22,
          0.2,
          0.22,
          0.12,
          0.99,
          0.94,
          0.32,
          0.66,
          0.4,
          0.06,
          0.29,
          0.51,
          0.93,
          0.66,
          1,
          0.55,
          0.67,
          0.1,
          0.34,
          0.44,
          0.21,
          0.19,
          0.92,
          0.12,
          0.72,
          0.54,
          0.98,
          0.74,
          0.91,
          0.71,
          0.31,
          0.88,
          0.87,
          0.33,
          0.58,
          0.04,
          0.95,
          0.4,
          0.29,
          0.08,
          0.24,
          0.15,
          0.46,
          0.74,
          0.71,
          0.21,
          0.38,
          0.44,
          0.59,
          0.45,
          0.22,
          0.11,
          0.58,
          0.6,
          0.11,
          0.59,
          0.85,
          0.95,
          0.29,
          0.7,
          0.48,
          0.71,
          0.28,
          0.58,
          0.6,
          0.96,
          0.45,
          0.79,
          0.17,
          0.5,
          0.96,
          0.18,
          0.33,
          0.12,
          0.36,
          0.03,
          0.46,
          0.46,
          0.27,
          0.33,
          0.32,
          0.53,
          0.08,
          0.75,
          0.43,
          0.91,
          0.44,
          0.11,
          0.75,
          0.65,
          0.79,
          0.14,
          0.75,
          0.22,
          0.23,
          0.62,
          0.4,
          0.99,
          0,
          0.59,
          0.59,
          1,
          0.62,
          0.65,
          0.43,
          0.74,
          0.94,
          0.85,
          0.18,
          0.63,
          0.6,
          0.61,
          0.67,
          0.33,
          0.04,
          0.02,
          0.08,
          0.35,
          0.95,
          0.44,
          0.04,
          0.91,
          0.65,
          0.41,
          0.85,
          0.56,
          0.36,
          0.51,
          0.77,
          0.97,
          0.82,
          0.27,
          0.37,
          0.29,
          0.78,
          0.54,
          0.66,
          0.64,
          0.04,
          0.78,
          0.04,
          0.74,
          0.43,
          0.69,
          0.51,
          0.37,
          0.37,
          0.77,
          0.17,
          0.85,
          0.57,
          0.82,
          0.43,
          0.25,
          0.66,
          0.21,
          0.45,
          0.99,
          0.45,
          0.76,
          0.22,
          0.43,
          0.39,
          0.79,
          0.71,
          0.74,
          0.33,
          0.48,
          0.31,
          0.33,
          0.48,
          0.56,
          0.96,
          0.11,
          0.72,
          0.32,
          1,
          0.99,
          0.73,
          0.52,
          0.45,
          0.67,
          0.61,
          0.68,
          0.54,
          0.45,
          0.75,
          0.18,
          0.86,
          0.72,
          0.81,
          0.74,
          0.6,
          0.56,
          0.42,
          0.91,
          0.85,
          0.72,
          1,
          0.26,
          0.86,
          0.23,
          0.79,
          0.41,
          0.49,
          0.11,
          0.96,
          0.38,
          0.92,
          0.96,
          0.76,
          0.77,
          0.19,
          0.71,
          0.13,
          0.6,
          0.38,
          0.78,
          0.01,
          0.95,
          0.38,
          0.46,
          0.25,
          0.7,
          0.98,
          0.37,
          0.14,
          0.07,
          0.56,
          0.59,
          0.46,
          0.35,
          0.31,
          0.64,
          0.95,
          0.71,
          0.78,
          0.44,
          0.87,
          0.81,
          0.99,
          0.15,
          0.63,
          0.09,
          0.34,
          0.12,
          0.65,
          0.66,
          0.34,
          0.14,
          0.21,
          0.96,
          0.88,
          0.24,
          0.55,
          0.29,
          0.08,
          0.95,
          0.01,
          0.78,
          0.46,
          0.74,
          0.32,
          0.98,
          0.29,
          0.02,
          0.49,
          0.1,
          0.93,
          0.45,
          0.81,
          0.05,
          0.8,
          0.59,
          0.17,
          0.28,
          0.14,
          0.91,
          0.53,
          0.58,
          0.7,
          0.06,
          0.06,
          0.3,
          0.31,
          0.22,
          0.67,
          0,
          0.65,
          0.17,
          0.94,
          0.28,
          0.29,
          0.31,
          0.37,
          0.67,
          0.3,
          0.95,
          0.26,
          0.41,
          0.26,
          0.4,
          0.86,
          0.91,
          0.78,
          0.2,
          0.96,
          0.05,
          0.91,
          0.46,
          0.65,
          0.71,
          0.03,
          0.53,
          0.74,
          0.79,
          0.12,
          0.32,
          0.76,
          0.38,
          0.73,
          0.95,
          0.23,
          0.88,
          0.44,
          0.1,
          0.5,
          0.5,
          0.08,
          0.85,
          0.96,
          0.85,
          0.61,
          0.26,
          0.66,
          0.85,
          0.64,
          0.75,
          0.67,
          0.45,
          0.14,
          0.34,
          0.74,
          0.6,
          0.8,
          0.71,
          0.56,
          0.05,
          0.75,
          0.66,
          0.91,
          0.96,
          0.33,
          0.78,
          0.35,
          0.24,
          0.91,
          0.17,
          0.21,
          0.05,
          0.32,
          0.93,
          0.22,
          0.04,
          0.18,
          0.1,
          0.07,
          0.96,
          0.68,
          0.86,
          0.21,
          0.73,
          0.68,
          0.04,
          0.47,
          0.54,
          0.82,
          0.64,
          0.11,
          0.59,
          0.97,
          0.6,
          0.13,
          0.6,
          0.42,
          0.48,
          0.52,
          0.85,
          0.55,
          0.78,
          0.01,
          0.04,
          0.85,
          0.04,
          0.02,
          0.93,
          0.96,
          0.86,
          0.54,
          0.31,
          0.21,
          0.96,
          0.13,
          0.52,
          0.55,
          0.75,
          0.56,
          0.52,
          0.22,
          0.12,
          0.45,
          0.08,
          0.75,
          0.17,
          0.26,
          0.04,
          0.6,
          0.37,
          0.92,
          0.41,
          0.76,
          0.11,
          0.02,
          0.22,
          0.78,
          0.74,
          0.16,
          0.22,
          0.58,
          0.06,
          0.69,
          0.57,
          0.3,
          0.24,
          0.41,
          0.19,
          0.61,
          0.79,
          0.39,
          0.58,
          1,
          0.24,
          0.6,
          0.04,
          0.92,
          0.73,
          0.78,
          0.05,
          0.13,
          0.13,
          0.78,
          0.66,
          0.69,
          0.45,
          0.73,
          0.62,
          0.39,
          0.93,
          0.35,
          0.95,
          0.15,
          0.71,
          0.32,
          0.13,
          0.08,
          0.47,
          0.93,
          0.31,
          0.54,
          0.17,
          0.78,
          0.09,
          0.55,
          0.73,
          0.86,
          0.6,
          0.15,
          0.66,
          0.32,
          0.53,
          0.61,
          0.81,
          1,
          0.3,
          0.83,
          0.78,
          0.07,
          0.71,
          0.11,
          0.73,
          0.39,
          0.52,
          0.53,
          0.32,
          0.47,
          0.33,
          0.68,
          0.92,
          0.77,
          0.59,
          0.57,
          0.56,
          0.66,
          0.62,
          0.58,
          0.86,
          0.55,
          0.01,
          0.89,
          0.19,
          0.98,
          0.89,
          0.54,
          0.17,
          0.05,
          0.28,
          0.78,
          0.24,
          0.4,
          0.38,
          0.8,
          0.69,
          0.45,
          0.96,
          0.66,
          0.33,
          0.14,
          0.57,
          0.15,
          0.38,
          0.53,
          0.7,
          1,
          0.06,
          0.04,
          0.05,
          0.8,
          0.06,
          0.1,
          0.65,
          0.61,
          0.24,
          0.11,
          0.33,
          0.9,
          0.1,
          0.22,
          0.13,
          0.6,
          0.28,
          0.98,
          0.08,
          0.3,
          0.46,
          0.08,
          0.37,
          0.94,
          0.35,
          0.95,
          0.7,
          0.44,
          0.65,
          0.23,
          0.97,
          0.21,
          0.92,
          0.9,
          0.55,
          0.53,
          0.49,
          0.01,
          0.81,
          0.93,
          0.19,
          0.15,
          0.49,
          0.51,
          0.27,
          0.6,
          0.01,
          0.8,
          0.92,
          0.74,
          0.42,
          0.12,
          0.67,
          0.57,
          0.92,
          0.21,
          0.29,
          0.55,
          0.11,
          0.36,
          0.94,
          0.5,
          0.68,
          0.5,
          0.46,
          0.39,
          0.06,
          0.84,
          0.06,
          0.02,
          0.02,
          0.81,
          0.27,
          0.07,
          0.41,
          0.66,
          0.46,
          0.65,
          0.56,
          0.85,
          0.66,
          0.6,
          0.18,
          0.55,
          0.97,
          0.12,
          0.92,
          0.82,
          0.64,
          0.52,
          0.2,
          0.97,
          0.95,
          0.95,
          0.18,
          0.01,
          0.06,
          0.62,
          0.88,
          0.87,
          0.74,
          0.47,
          0.85,
          1,
          0.68,
          0.63,
          0.86,
          0.24,
          0.3,
          0.27,
          0.34,
          0.08,
          0.08,
          0.08,
          0.3,
          0.11,
          0.97,
          0.14,
          0.84,
          0.74,
          0.33,
          0.49,
          0.89,
          0.19,
          0.71,
          0.17,
          0.36,
          0.56,
          0.8,
          0.91,
          0.85,
          0.72,
          0.95,
          0.98,
          0.4,
          0.64,
          0.73,
          0.16,
          0.26,
          0.81,
          0.74,
          0.06,
          0.42,
          0.21,
          0.29,
          0.42,
          0.48,
          0.67,
          0.89,
          0.56,
          0.66,
          0.59,
          0.98,
          0.61,
          0.38,
          0.32,
          0.76,
          0.99,
          0.97,
          0.16,
          0.5,
          0.96,
          0.56,
          0.97,
          0.74,
          0.04,
          0.74,
          0.73,
          0.67,
          0.76,
          0.08,
          0.63,
          0.24,
          0.12,
          0.1,
          0.38,
          0.6,
          0.62,
          0.58,
          0.24,
          0.69,
          0.45,
          0.77,
          0.29,
          0.17,
          0.94,
          0.14,
          0.29,
          0.79,
          0.37,
          0.45,
          0.75,
          0.43,
          0.9,
          0.55,
          0.77,
          0.72,
          0.43,
          0.81,
          0.79,
          0.53,
          0.83,
          0.06,
          0.74,
          0.2,
          0.88,
          0.61,
          0.57,
          0.73,
          0.45,
          0.4,
          0.08,
          0.53,
          0.71,
          0.05,
          0.99,
          0.32,
          0.17,
          0.07,
          0.32,
          0.51,
          0.43,
          0.04,
          0.81,
          0.7,
          0.05,
          0.16,
          0.86,
          0.76,
          0.45,
          0.86,
          0.99,
          0.35,
          0.63,
          0.12,
          0.3,
          0.21,
          0.42,
          0.57,
          0.17,
          0.76,
          0.6,
          0.82,
          0.84,
          0.41,
          0.74,
          0.14,
          0.48,
          0.77,
          0.93,
          0.12,
          0.58,
          0.66,
          0.46,
          0.83,
          0.86,
          0.76,
          0.75,
          0.22,
          0.1,
          0.03,
          0.63,
          0.69,
          0.91,
          0.97,
          0.16,
          0.3,
          0.1,
          0.13,
          0.68,
          0.66,
          0.27,
          0.27,
          0.53,
          0.81,
          0.13,
          0.44,
          0.41,
          0.93,
          0.19,
          0.67,
          0.17,
          0.74,
          0.62,
          0.49,
          0.47,
          0.14,
          0.74,
          0.75,
          0.5,
          0.49,
          0.82,
          0.4,
          0.63,
          0.36,
          0.29,
          0.01,
          0.58,
          0.07,
          0.55,
          0.52,
          0.81,
          0.18,
          0.71,
          0.87,
          0.88,
          0.97,
          0.63,
          0.73,
          0.49,
          0.43,
          0.11,
          0.74,
          0.06,
          0,
          0.88,
          0.36,
          0.82,
          0.15,
          0.77,
          0.42,
          0.09,
          0.36,
          0.96,
          0.84,
          0.74,
          0.06,
          0.5,
          0.62,
          0.64,
          0.78,
          0.2,
          0.09,
          0.7,
          0.59,
          0.16,
          0.89,
          0.77,
          0.36,
          0.97,
          0.84,
          0.79,
          0.87,
          0.77,
          0.04,
          0.98,
          0.27,
          0.34,
          0.91,
          0.15,
          0.45,
          0.35,
          1,
          0.37,
          0.62,
          0.44,
          0.95,
          0.84,
          0.17,
          0.94,
          0.12,
          0.63,
          0.63,
          0.66,
          0.26,
          0.49,
          0.9,
          0.19,
          0.22,
          0.51,
          0.49,
          0.9,
          0.03,
          0.12,
          0.21,
          0.81,
          0.6,
          0.84,
          0.72,
          0.98,
          0.86,
          0.88,
          0.58,
          0.48,
          0.56,
          0.49,
          0.22,
          0.69,
          0.03,
          0.5,
          0.29,
          0.22,
          0.39,
          0.19,
          0.9,
          0.35,
          0.53,
          0.36,
          0.98,
          0.09,
          0.39,
          0.97,
          0.56,
          0.49,
          0.71,
          0.64,
          0.14,
          0.18,
          0.47,
          0.62,
          0.08,
          0.58,
          0.63,
          0.1,
          0.98,
          0.14,
          0.49,
          0.12,
          0.01,
          0.66,
          0.96,
          0.96,
          0.93,
          0.25,
          0.13,
          0.16,
          0.55,
          0.62,
          0.12,
          0.07,
          0.47,
          0.91,
          0.74,
          0.35,
          0.48,
          0.19,
          0.08,
          0.4,
          0.3,
          0.71,
          0.82,
          0.38,
          0.21,
          0.81,
          0.93,
          0.91,
          0.27,
          0.44,
          0.44,
          0.11,
          0.02,
          0.2,
          0.98,
          0.91,
          0.03,
          0.8,
          0.8,
          0.56,
          0.67,
          0.49,
          0.1,
          0.4,
          0.74,
          0.77,
          0.18,
          0.32,
          0.17
         ],
         "y0": " ",
         "yaxis": "y"
        }
       ],
       "layout": {
        "boxmode": "group",
        "legend": {
         "tracegroupgap": 0
        },
        "template": {
         "data": {
          "bar": [
           {
            "error_x": {
             "color": "#2a3f5f"
            },
            "error_y": {
             "color": "#2a3f5f"
            },
            "marker": {
             "line": {
              "color": "white",
              "width": 0.5
             },
             "pattern": {
              "fillmode": "overlay",
              "size": 10,
              "solidity": 0.2
             }
            },
            "type": "bar"
           }
          ],
          "barpolar": [
           {
            "marker": {
             "line": {
              "color": "white",
              "width": 0.5
             },
             "pattern": {
              "fillmode": "overlay",
              "size": 10,
              "solidity": 0.2
             }
            },
            "type": "barpolar"
           }
          ],
          "carpet": [
           {
            "aaxis": {
             "endlinecolor": "#2a3f5f",
             "gridcolor": "#C8D4E3",
             "linecolor": "#C8D4E3",
             "minorgridcolor": "#C8D4E3",
             "startlinecolor": "#2a3f5f"
            },
            "baxis": {
             "endlinecolor": "#2a3f5f",
             "gridcolor": "#C8D4E3",
             "linecolor": "#C8D4E3",
             "minorgridcolor": "#C8D4E3",
             "startlinecolor": "#2a3f5f"
            },
            "type": "carpet"
           }
          ],
          "choropleth": [
           {
            "colorbar": {
             "outlinewidth": 0,
             "ticks": ""
            },
            "type": "choropleth"
           }
          ],
          "contour": [
           {
            "colorbar": {
             "outlinewidth": 0,
             "ticks": ""
            },
            "colorscale": [
             [
              0,
              "#0d0887"
             ],
             [
              0.1111111111111111,
              "#46039f"
             ],
             [
              0.2222222222222222,
              "#7201a8"
             ],
             [
              0.3333333333333333,
              "#9c179e"
             ],
             [
              0.4444444444444444,
              "#bd3786"
             ],
             [
              0.5555555555555556,
              "#d8576b"
             ],
             [
              0.6666666666666666,
              "#ed7953"
             ],
             [
              0.7777777777777778,
              "#fb9f3a"
             ],
             [
              0.8888888888888888,
              "#fdca26"
             ],
             [
              1,
              "#f0f921"
             ]
            ],
            "type": "contour"
           }
          ],
          "contourcarpet": [
           {
            "colorbar": {
             "outlinewidth": 0,
             "ticks": ""
            },
            "type": "contourcarpet"
           }
          ],
          "heatmap": [
           {
            "colorbar": {
             "outlinewidth": 0,
             "ticks": ""
            },
            "colorscale": [
             [
              0,
              "#0d0887"
             ],
             [
              0.1111111111111111,
              "#46039f"
             ],
             [
              0.2222222222222222,
              "#7201a8"
             ],
             [
              0.3333333333333333,
              "#9c179e"
             ],
             [
              0.4444444444444444,
              "#bd3786"
             ],
             [
              0.5555555555555556,
              "#d8576b"
             ],
             [
              0.6666666666666666,
              "#ed7953"
             ],
             [
              0.7777777777777778,
              "#fb9f3a"
             ],
             [
              0.8888888888888888,
              "#fdca26"
             ],
             [
              1,
              "#f0f921"
             ]
            ],
            "type": "heatmap"
           }
          ],
          "heatmapgl": [
           {
            "colorbar": {
             "outlinewidth": 0,
             "ticks": ""
            },
            "colorscale": [
             [
              0,
              "#0d0887"
             ],
             [
              0.1111111111111111,
              "#46039f"
             ],
             [
              0.2222222222222222,
              "#7201a8"
             ],
             [
              0.3333333333333333,
              "#9c179e"
             ],
             [
              0.4444444444444444,
              "#bd3786"
             ],
             [
              0.5555555555555556,
              "#d8576b"
             ],
             [
              0.6666666666666666,
              "#ed7953"
             ],
             [
              0.7777777777777778,
              "#fb9f3a"
             ],
             [
              0.8888888888888888,
              "#fdca26"
             ],
             [
              1,
              "#f0f921"
             ]
            ],
            "type": "heatmapgl"
           }
          ],
          "histogram": [
           {
            "marker": {
             "pattern": {
              "fillmode": "overlay",
              "size": 10,
              "solidity": 0.2
             }
            },
            "type": "histogram"
           }
          ],
          "histogram2d": [
           {
            "colorbar": {
             "outlinewidth": 0,
             "ticks": ""
            },
            "colorscale": [
             [
              0,
              "#0d0887"
             ],
             [
              0.1111111111111111,
              "#46039f"
             ],
             [
              0.2222222222222222,
              "#7201a8"
             ],
             [
              0.3333333333333333,
              "#9c179e"
             ],
             [
              0.4444444444444444,
              "#bd3786"
             ],
             [
              0.5555555555555556,
              "#d8576b"
             ],
             [
              0.6666666666666666,
              "#ed7953"
             ],
             [
              0.7777777777777778,
              "#fb9f3a"
             ],
             [
              0.8888888888888888,
              "#fdca26"
             ],
             [
              1,
              "#f0f921"
             ]
            ],
            "type": "histogram2d"
           }
          ],
          "histogram2dcontour": [
           {
            "colorbar": {
             "outlinewidth": 0,
             "ticks": ""
            },
            "colorscale": [
             [
              0,
              "#0d0887"
             ],
             [
              0.1111111111111111,
              "#46039f"
             ],
             [
              0.2222222222222222,
              "#7201a8"
             ],
             [
              0.3333333333333333,
              "#9c179e"
             ],
             [
              0.4444444444444444,
              "#bd3786"
             ],
             [
              0.5555555555555556,
              "#d8576b"
             ],
             [
              0.6666666666666666,
              "#ed7953"
             ],
             [
              0.7777777777777778,
              "#fb9f3a"
             ],
             [
              0.8888888888888888,
              "#fdca26"
             ],
             [
              1,
              "#f0f921"
             ]
            ],
            "type": "histogram2dcontour"
           }
          ],
          "mesh3d": [
           {
            "colorbar": {
             "outlinewidth": 0,
             "ticks": ""
            },
            "type": "mesh3d"
           }
          ],
          "parcoords": [
           {
            "line": {
             "colorbar": {
              "outlinewidth": 0,
              "ticks": ""
             }
            },
            "type": "parcoords"
           }
          ],
          "pie": [
           {
            "automargin": true,
            "type": "pie"
           }
          ],
          "scatter": [
           {
            "fillpattern": {
             "fillmode": "overlay",
             "size": 10,
             "solidity": 0.2
            },
            "type": "scatter"
           }
          ],
          "scatter3d": [
           {
            "line": {
             "colorbar": {
              "outlinewidth": 0,
              "ticks": ""
             }
            },
            "marker": {
             "colorbar": {
              "outlinewidth": 0,
              "ticks": ""
             }
            },
            "type": "scatter3d"
           }
          ],
          "scattercarpet": [
           {
            "marker": {
             "colorbar": {
              "outlinewidth": 0,
              "ticks": ""
             }
            },
            "type": "scattercarpet"
           }
          ],
          "scattergeo": [
           {
            "marker": {
             "colorbar": {
              "outlinewidth": 0,
              "ticks": ""
             }
            },
            "type": "scattergeo"
           }
          ],
          "scattergl": [
           {
            "marker": {
             "colorbar": {
              "outlinewidth": 0,
              "ticks": ""
             }
            },
            "type": "scattergl"
           }
          ],
          "scattermapbox": [
           {
            "marker": {
             "colorbar": {
              "outlinewidth": 0,
              "ticks": ""
             }
            },
            "type": "scattermapbox"
           }
          ],
          "scatterpolar": [
           {
            "marker": {
             "colorbar": {
              "outlinewidth": 0,
              "ticks": ""
             }
            },
            "type": "scatterpolar"
           }
          ],
          "scatterpolargl": [
           {
            "marker": {
             "colorbar": {
              "outlinewidth": 0,
              "ticks": ""
             }
            },
            "type": "scatterpolargl"
           }
          ],
          "scatterternary": [
           {
            "marker": {
             "colorbar": {
              "outlinewidth": 0,
              "ticks": ""
             }
            },
            "type": "scatterternary"
           }
          ],
          "surface": [
           {
            "colorbar": {
             "outlinewidth": 0,
             "ticks": ""
            },
            "colorscale": [
             [
              0,
              "#0d0887"
             ],
             [
              0.1111111111111111,
              "#46039f"
             ],
             [
              0.2222222222222222,
              "#7201a8"
             ],
             [
              0.3333333333333333,
              "#9c179e"
             ],
             [
              0.4444444444444444,
              "#bd3786"
             ],
             [
              0.5555555555555556,
              "#d8576b"
             ],
             [
              0.6666666666666666,
              "#ed7953"
             ],
             [
              0.7777777777777778,
              "#fb9f3a"
             ],
             [
              0.8888888888888888,
              "#fdca26"
             ],
             [
              1,
              "#f0f921"
             ]
            ],
            "type": "surface"
           }
          ],
          "table": [
           {
            "cells": {
             "fill": {
              "color": "#EBF0F8"
             },
             "line": {
              "color": "white"
             }
            },
            "header": {
             "fill": {
              "color": "#C8D4E3"
             },
             "line": {
              "color": "white"
             }
            },
            "type": "table"
           }
          ]
         },
         "layout": {
          "annotationdefaults": {
           "arrowcolor": "#2a3f5f",
           "arrowhead": 0,
           "arrowwidth": 1
          },
          "autotypenumbers": "strict",
          "coloraxis": {
           "colorbar": {
            "outlinewidth": 0,
            "ticks": ""
           }
          },
          "colorscale": {
           "diverging": [
            [
             0,
             "#8e0152"
            ],
            [
             0.1,
             "#c51b7d"
            ],
            [
             0.2,
             "#de77ae"
            ],
            [
             0.3,
             "#f1b6da"
            ],
            [
             0.4,
             "#fde0ef"
            ],
            [
             0.5,
             "#f7f7f7"
            ],
            [
             0.6,
             "#e6f5d0"
            ],
            [
             0.7,
             "#b8e186"
            ],
            [
             0.8,
             "#7fbc41"
            ],
            [
             0.9,
             "#4d9221"
            ],
            [
             1,
             "#276419"
            ]
           ],
           "sequential": [
            [
             0,
             "#0d0887"
            ],
            [
             0.1111111111111111,
             "#46039f"
            ],
            [
             0.2222222222222222,
             "#7201a8"
            ],
            [
             0.3333333333333333,
             "#9c179e"
            ],
            [
             0.4444444444444444,
             "#bd3786"
            ],
            [
             0.5555555555555556,
             "#d8576b"
            ],
            [
             0.6666666666666666,
             "#ed7953"
            ],
            [
             0.7777777777777778,
             "#fb9f3a"
            ],
            [
             0.8888888888888888,
             "#fdca26"
            ],
            [
             1,
             "#f0f921"
            ]
           ],
           "sequentialminus": [
            [
             0,
             "#0d0887"
            ],
            [
             0.1111111111111111,
             "#46039f"
            ],
            [
             0.2222222222222222,
             "#7201a8"
            ],
            [
             0.3333333333333333,
             "#9c179e"
            ],
            [
             0.4444444444444444,
             "#bd3786"
            ],
            [
             0.5555555555555556,
             "#d8576b"
            ],
            [
             0.6666666666666666,
             "#ed7953"
            ],
            [
             0.7777777777777778,
             "#fb9f3a"
            ],
            [
             0.8888888888888888,
             "#fdca26"
            ],
            [
             1,
             "#f0f921"
            ]
           ]
          },
          "colorway": [
           "#636efa",
           "#EF553B",
           "#00cc96",
           "#ab63fa",
           "#FFA15A",
           "#19d3f3",
           "#FF6692",
           "#B6E880",
           "#FF97FF",
           "#FECB52"
          ],
          "font": {
           "color": "#2a3f5f"
          },
          "geo": {
           "bgcolor": "white",
           "lakecolor": "white",
           "landcolor": "white",
           "showlakes": true,
           "showland": true,
           "subunitcolor": "#C8D4E3"
          },
          "hoverlabel": {
           "align": "left"
          },
          "hovermode": "closest",
          "mapbox": {
           "style": "light"
          },
          "paper_bgcolor": "white",
          "plot_bgcolor": "white",
          "polar": {
           "angularaxis": {
            "gridcolor": "#EBF0F8",
            "linecolor": "#EBF0F8",
            "ticks": ""
           },
           "bgcolor": "white",
           "radialaxis": {
            "gridcolor": "#EBF0F8",
            "linecolor": "#EBF0F8",
            "ticks": ""
           }
          },
          "scene": {
           "xaxis": {
            "backgroundcolor": "white",
            "gridcolor": "#DFE8F3",
            "gridwidth": 2,
            "linecolor": "#EBF0F8",
            "showbackground": true,
            "ticks": "",
            "zerolinecolor": "#EBF0F8"
           },
           "yaxis": {
            "backgroundcolor": "white",
            "gridcolor": "#DFE8F3",
            "gridwidth": 2,
            "linecolor": "#EBF0F8",
            "showbackground": true,
            "ticks": "",
            "zerolinecolor": "#EBF0F8"
           },
           "zaxis": {
            "backgroundcolor": "white",
            "gridcolor": "#DFE8F3",
            "gridwidth": 2,
            "linecolor": "#EBF0F8",
            "showbackground": true,
            "ticks": "",
            "zerolinecolor": "#EBF0F8"
           }
          },
          "shapedefaults": {
           "line": {
            "color": "#2a3f5f"
           }
          },
          "ternary": {
           "aaxis": {
            "gridcolor": "#DFE8F3",
            "linecolor": "#A2B1C6",
            "ticks": ""
           },
           "baxis": {
            "gridcolor": "#DFE8F3",
            "linecolor": "#A2B1C6",
            "ticks": ""
           },
           "bgcolor": "white",
           "caxis": {
            "gridcolor": "#DFE8F3",
            "linecolor": "#A2B1C6",
            "ticks": ""
           }
          },
          "title": {
           "x": 0.05
          },
          "xaxis": {
           "automargin": true,
           "gridcolor": "#EBF0F8",
           "linecolor": "#EBF0F8",
           "ticks": "",
           "title": {
            "standoff": 15
           },
           "zerolinecolor": "#EBF0F8",
           "zerolinewidth": 2
          },
          "yaxis": {
           "automargin": true,
           "gridcolor": "#EBF0F8",
           "linecolor": "#EBF0F8",
           "ticks": "",
           "title": {
            "standoff": 15
           },
           "zerolinecolor": "#EBF0F8",
           "zerolinewidth": 2
          }
         }
        },
        "title": {
         "text": "Credit Utilization Ratio Distribution"
        },
        "xaxis": {
         "anchor": "y",
         "domain": [
          0,
          1
         ]
        },
        "yaxis": {
         "anchor": "x",
         "domain": [
          0,
          1
         ],
         "title": {
          "text": "Credit Utilization Ratio"
         }
        }
       }
      }
     },
     "metadata": {},
     "output_type": "display_data"
    }
   ],
   "source": [
    "# 'data' is DataFrame and 'Credit Utilization Ratio' is the column name\n",
    "credit_utilization_fig = px.box(data, y='Credit Utilization Ratio', title='Credit Utilization Ratio Distribution')\n",
    "\n",
    "# Display the plot\n",
    "credit_utilization_fig.show()\n"
   ]
  },
  {
   "cell_type": "markdown",
   "metadata": {},
   "source": [
    "The distribution of the loan amount in the data:"
   ]
  },
  {
   "cell_type": "code",
   "execution_count": 11,
   "metadata": {},
   "outputs": [
    {
     "data": {
      "application/vnd.plotly.v1+json": {
       "config": {
        "plotlyServerURL": "https://plot.ly"
       },
       "data": [
        {
         "alignmentgroup": "True",
         "bingroup": "x",
         "hovertemplate": "Loan Amount=%{x}<br>count=%{y}<extra></extra>",
         "legendgroup": "",
         "marker": {
          "color": "#636efa",
          "pattern": {
           "shape": ""
          }
         },
         "name": "",
         "nbinsx": 20,
         "offsetgroup": "",
         "orientation": "v",
         "showlegend": false,
         "type": "histogram",
         "x": [
          4675000,
          3619000,
          957000,
          4731000,
          3289000,
          1536000,
          2021000,
          1298000,
          4374000,
          4026000,
          127000,
          3237000,
          586000,
          2323000,
          3775000,
          160000,
          1210000,
          3653000,
          1707000,
          524000,
          1481000,
          4959000,
          577000,
          4956000,
          3420000,
          1211000,
          166000,
          2464000,
          3653000,
          1038000,
          1862000,
          2887000,
          1774000,
          3046000,
          1009000,
          4461000,
          2733000,
          1168000,
          2803000,
          2912000,
          711000,
          994000,
          4789000,
          2274000,
          2917000,
          2876000,
          2605000,
          2920000,
          804000,
          2434000,
          360000,
          2250000,
          3248000,
          445000,
          1383000,
          827000,
          1879000,
          3509000,
          2669000,
          2209000,
          4501000,
          482000,
          2958000,
          1373000,
          4484000,
          1870000,
          2543000,
          1759000,
          4875000,
          775000,
          274000,
          4225000,
          2518000,
          4417000,
          3808000,
          2107000,
          4281000,
          1699000,
          2604000,
          3264000,
          3339000,
          1309000,
          3288000,
          943000,
          3557000,
          3968000,
          2609000,
          3111000,
          3055000,
          380000,
          4309000,
          4775000,
          3296000,
          2635000,
          3360000,
          3208000,
          3914000,
          1821000,
          4632000,
          2326000,
          1958000,
          1006000,
          2828000,
          1904000,
          3240000,
          603000,
          2513000,
          3183000,
          2951000,
          4550000,
          1420000,
          1908000,
          3416000,
          3713000,
          753000,
          3960000,
          1959000,
          2082000,
          3992000,
          2640000,
          744000,
          2797000,
          3772000,
          539000,
          2896000,
          1172000,
          2967000,
          417000,
          467000,
          1728000,
          2197000,
          3770000,
          3245000,
          4035000,
          1122000,
          4924000,
          3125000,
          236000,
          1569000,
          2562000,
          2500000,
          1667000,
          2564000,
          455000,
          361000,
          372000,
          2194000,
          1900000,
          836000,
          3132000,
          1189000,
          2759000,
          4446000,
          2402000,
          2932000,
          354000,
          1426000,
          1197000,
          525000,
          4016000,
          524000,
          3483000,
          2446000,
          3167000,
          3933000,
          2922000,
          4996000,
          3289000,
          1810000,
          4508000,
          4782000,
          2514000,
          3811000,
          2107000,
          143000,
          850000,
          1663000,
          4243000,
          1662000,
          900000,
          2633000,
          1440000,
          4111000,
          4508000,
          4465000,
          3932000,
          480000,
          3241000,
          4607000,
          3282000,
          231000,
          2066000,
          2087000,
          3684000,
          3258000,
          3594000,
          1698000,
          4121000,
          1816000,
          4009000,
          236000,
          4288000,
          4685000,
          670000,
          4728000,
          1349000,
          2140000,
          179000,
          4855000,
          3441000,
          4301000,
          2838000,
          819000,
          3368000,
          3865000,
          204000,
          2626000,
          2169000,
          3287000,
          2736000,
          3162000,
          3778000,
          3262000,
          813000,
          2882000,
          4298000,
          3920000,
          289000,
          3498000,
          1902000,
          4527000,
          1547000,
          1286000,
          4755000,
          1737000,
          1503000,
          4711000,
          959000,
          1861000,
          3043000,
          1237000,
          3394000,
          3479000,
          631000,
          4849000,
          3930000,
          3219000,
          109000,
          1209000,
          1298000,
          3554000,
          2179000,
          4374000,
          696000,
          712000,
          3585000,
          4600000,
          2151000,
          1474000,
          346000,
          4291000,
          203000,
          2375000,
          4001000,
          2135000,
          180000,
          2447000,
          728000,
          2768000,
          1113000,
          438000,
          1559000,
          200000,
          641000,
          3413000,
          2162000,
          2190000,
          3358000,
          2053000,
          1557000,
          1292000,
          267000,
          1288000,
          3765000,
          1168000,
          4262000,
          3847000,
          3620000,
          1464000,
          729000,
          3742000,
          516000,
          4129000,
          4203000,
          2309000,
          2009000,
          4312000,
          1717000,
          830000,
          4988000,
          4898000,
          513000,
          2012000,
          4433000,
          343000,
          4337000,
          4725000,
          1957000,
          171000,
          2635000,
          2604000,
          1680000,
          2276000,
          3107000,
          1636000,
          2286000,
          4545000,
          778000,
          1429000,
          1773000,
          2718000,
          4497000,
          1872000,
          508000,
          2220000,
          1251000,
          2306000,
          2873000,
          2247000,
          3674000,
          3226000,
          1048000,
          342000,
          4502000,
          3000000,
          728000,
          761000,
          3484000,
          555000,
          118000,
          997000,
          490000,
          4151000,
          3327000,
          4397000,
          1213000,
          3602000,
          2340000,
          3897000,
          3594000,
          4685000,
          1101000,
          435000,
          1945000,
          2877000,
          2145000,
          4414000,
          4573000,
          705000,
          691000,
          4587000,
          2628000,
          4678000,
          3406000,
          1730000,
          4187000,
          4176000,
          2727000,
          3983000,
          1748000,
          2286000,
          3998000,
          1278000,
          2044000,
          435000,
          3275000,
          4144000,
          1668000,
          4118000,
          429000,
          2478000,
          4385000,
          4485000,
          4322000,
          3698000,
          2476000,
          3246000,
          3167000,
          4946000,
          1899000,
          4057000,
          4471000,
          1734000,
          1421000,
          856000,
          2290000,
          2198000,
          2263000,
          2183000,
          2357000,
          3087000,
          2746000,
          4112000,
          199000,
          4054000,
          2446000,
          1323000,
          4182000,
          908000,
          1769000,
          2504000,
          2730000,
          3573000,
          635000,
          3370000,
          4094000,
          3749000,
          2647000,
          2613000,
          3411000,
          2488000,
          3898000,
          2358000,
          4281000,
          4044000,
          3966000,
          4710000,
          3742000,
          1400000,
          4599000,
          2203000,
          2815000,
          3180000,
          4621000,
          907000,
          3360000,
          1851000,
          2330000,
          2187000,
          3683000,
          2744000,
          3246000,
          2632000,
          1261000,
          2824000,
          758000,
          2657000,
          3838000,
          4894000,
          4792000,
          852000,
          1520000,
          1043000,
          1853000,
          3259000,
          170000,
          936000,
          2175000,
          2081000,
          2967000,
          2862000,
          3708000,
          2773000,
          2339000,
          1225000,
          1998000,
          4210000,
          4598000,
          4778000,
          558000,
          1235000,
          1136000,
          2912000,
          1616000,
          4239000,
          2433000,
          2604000,
          4901000,
          3685000,
          1854000,
          4507000,
          2537000,
          2900000,
          151000,
          4080000,
          4471000,
          361000,
          2377000,
          1795000,
          2846000,
          134000,
          289000,
          1087000,
          4916000,
          989000,
          759000,
          4047000,
          3902000,
          1169000,
          2144000,
          2081000,
          2684000,
          1265000,
          1825000,
          3491000,
          3721000,
          4084000,
          1308000,
          3671000,
          4948000,
          3192000,
          4063000,
          3909000,
          2651000,
          329000,
          1036000,
          1617000,
          1869000,
          4567000,
          444000,
          3381000,
          4694000,
          2213000,
          1190000,
          2418000,
          2320000,
          1932000,
          257000,
          4920000,
          1117000,
          3956000,
          4181000,
          3361000,
          3502000,
          260000,
          3927000,
          3472000,
          3583000,
          3255000,
          4093000,
          1610000,
          903000,
          4273000,
          463000,
          4963000,
          1777000,
          1594000,
          600000,
          1526000,
          2169000,
          4330000,
          3511000,
          4885000,
          693000,
          4418000,
          662000,
          1991000,
          4518000,
          3941000,
          1813000,
          2545000,
          4547000,
          497000,
          1453000,
          2759000,
          1320000,
          1334000,
          3469000,
          1742000,
          4391000,
          2684000,
          1271000,
          842000,
          4746000,
          1142000,
          3135000,
          2277000,
          509000,
          2806000,
          3229000,
          4509000,
          2714000,
          1180000,
          752000,
          656000,
          1321000,
          217000,
          3174000,
          1047000,
          790000,
          1684000,
          813000,
          1780000,
          3493000,
          349000,
          908000,
          4634000,
          4770000,
          4872000,
          3269000,
          326000,
          2068000,
          3966000,
          4884000,
          1498000,
          3472000,
          3683000,
          4423000,
          2348000,
          2619000,
          2081000,
          410000,
          267000,
          1279000,
          2862000,
          3526000,
          2430000,
          559000,
          3359000,
          3508000,
          4347000,
          1242000,
          3542000,
          1626000,
          1516000,
          4511000,
          2516000,
          2534000,
          3435000,
          4050000,
          3211000,
          2762000,
          3708000,
          4761000,
          3761000,
          3033000,
          4888000,
          3407000,
          149000,
          2811000,
          848000,
          1201000,
          857000,
          1401000,
          1347000,
          1003000,
          1056000,
          3874000,
          149000,
          2640000,
          233000,
          822000,
          4055000,
          3587000,
          4193000,
          1081000,
          2047000,
          4062000,
          4229000,
          1430000,
          2955000,
          988000,
          3804000,
          155000,
          2159000,
          350000,
          616000,
          2653000,
          3809000,
          4466000,
          2270000,
          1139000,
          4574000,
          4432000,
          1902000,
          3597000,
          1416000,
          1088000,
          1908000,
          3895000,
          849000,
          843000,
          4645000,
          259000,
          2952000,
          2494000,
          328000,
          1799000,
          649000,
          2655000,
          4609000,
          4145000,
          687000,
          2292000,
          1222000,
          3395000,
          3103000,
          3102000,
          1854000,
          4841000,
          294000,
          2810000,
          494000,
          1993000,
          4126000,
          2898000,
          3266000,
          538000,
          950000,
          1724000,
          1255000,
          1337000,
          3641000,
          2878000,
          1941000,
          1822000,
          3119000,
          1598000,
          2115000,
          1708000,
          2173000,
          1505000,
          4251000,
          1934000,
          4452000,
          2759000,
          4402000,
          2862000,
          3487000,
          2061000,
          1858000,
          1992000,
          2870000,
          1011000,
          325000,
          1541000,
          1190000,
          2411000,
          4933000,
          2190000,
          2111000,
          3550000,
          4345000,
          417000,
          3772000,
          751000,
          1913000,
          3266000,
          630000,
          1837000,
          201000,
          2629000,
          1215000,
          4323000,
          766000,
          3822000,
          2021000,
          3300000,
          1153000,
          3657000,
          3116000,
          2619000,
          4134000,
          4223000,
          426000,
          3189000,
          1341000,
          3436000,
          2684000,
          2685000,
          1531000,
          1786000,
          3269000,
          2332000,
          4176000,
          3275000,
          1131000,
          2803000,
          3690000,
          4333000,
          2141000,
          4096000,
          642000,
          848000,
          619000,
          994000,
          1324000,
          3260000,
          2609000,
          4528000,
          2651000,
          177000,
          540000,
          4199000,
          197000,
          1619000,
          3500000,
          1609000,
          394000,
          4580000,
          408000,
          724000,
          4595000,
          1476000,
          4700000,
          1964000,
          2466000,
          4728000,
          2343000,
          4313000,
          767000,
          4367000,
          3665000,
          1988000,
          2195000,
          1924000,
          3069000,
          4414000,
          3158000,
          149000,
          1769000,
          4310000,
          537000,
          2178000,
          965000,
          1326000,
          2920000,
          2172000,
          945000,
          2878000,
          1195000,
          2976000,
          3014000,
          1500000,
          4407000,
          1927000,
          1535000,
          1861000,
          3525000,
          231000,
          3809000,
          1344000,
          2466000,
          941000,
          1209000,
          1797000,
          4660000,
          2001000,
          1522000,
          1368000,
          2374000,
          665000,
          4246000,
          4578000,
          1805000,
          2572000,
          3266000,
          1332000,
          2612000,
          1556000,
          3654000,
          1641000,
          559000,
          2109000,
          2358000,
          3092000,
          3517000,
          1452000,
          4490000,
          2106000,
          831000,
          1603000,
          3149000,
          800000,
          167000,
          3027000,
          2858000,
          1321000,
          1874000,
          3887000,
          1480000,
          183000,
          4290000,
          406000,
          221000,
          3051000,
          1464000,
          971000,
          2532000,
          3564000,
          135000,
          2129000,
          3482000,
          2283000,
          333000,
          1665000,
          1306000,
          749000,
          1864000,
          364000,
          293000,
          2345000,
          2198000,
          2379000,
          1503000,
          3702000,
          2859000,
          4806000,
          517000,
          2083000,
          4575000,
          3001000,
          3237000,
          1999000,
          503000,
          2779000,
          2800000,
          754000,
          4526000,
          3895000,
          1336000,
          3897000,
          546000,
          2415000,
          4925000,
          4254000,
          4099000,
          4081000,
          108000,
          888000,
          2626000,
          3096000,
          2398000,
          2695000,
          1024000,
          4184000,
          3055000,
          3724000,
          923000,
          2197000,
          906000,
          332000,
          549000,
          2897000,
          1820000,
          4168000,
          4074000,
          2283000,
          1533000,
          3382000,
          4970000,
          4300000,
          2946000,
          4932000,
          3487000,
          2042000,
          3804000,
          4768000,
          822000,
          1654000,
          663000,
          4634000,
          4443000,
          371000,
          4240000,
          4116000,
          2011000,
          1151000,
          2098000,
          1615000,
          744000,
          2555000,
          2447000,
          2072000,
          2441000,
          4567000,
          329000,
          3988000,
          818000,
          204000,
          3109000,
          2277000,
          4351000,
          475000,
          3589000,
          4048000,
          1874000,
          3297000,
          4499000,
          3924000,
          4161000,
          2283000,
          1609000,
          301000,
          2561000,
          3530000,
          1377000,
          2443000,
          1301000,
          4182000
         ],
         "xaxis": "x",
         "yaxis": "y"
        }
       ],
       "layout": {
        "barmode": "relative",
        "legend": {
         "tracegroupgap": 0
        },
        "template": {
         "data": {
          "bar": [
           {
            "error_x": {
             "color": "#2a3f5f"
            },
            "error_y": {
             "color": "#2a3f5f"
            },
            "marker": {
             "line": {
              "color": "white",
              "width": 0.5
             },
             "pattern": {
              "fillmode": "overlay",
              "size": 10,
              "solidity": 0.2
             }
            },
            "type": "bar"
           }
          ],
          "barpolar": [
           {
            "marker": {
             "line": {
              "color": "white",
              "width": 0.5
             },
             "pattern": {
              "fillmode": "overlay",
              "size": 10,
              "solidity": 0.2
             }
            },
            "type": "barpolar"
           }
          ],
          "carpet": [
           {
            "aaxis": {
             "endlinecolor": "#2a3f5f",
             "gridcolor": "#C8D4E3",
             "linecolor": "#C8D4E3",
             "minorgridcolor": "#C8D4E3",
             "startlinecolor": "#2a3f5f"
            },
            "baxis": {
             "endlinecolor": "#2a3f5f",
             "gridcolor": "#C8D4E3",
             "linecolor": "#C8D4E3",
             "minorgridcolor": "#C8D4E3",
             "startlinecolor": "#2a3f5f"
            },
            "type": "carpet"
           }
          ],
          "choropleth": [
           {
            "colorbar": {
             "outlinewidth": 0,
             "ticks": ""
            },
            "type": "choropleth"
           }
          ],
          "contour": [
           {
            "colorbar": {
             "outlinewidth": 0,
             "ticks": ""
            },
            "colorscale": [
             [
              0,
              "#0d0887"
             ],
             [
              0.1111111111111111,
              "#46039f"
             ],
             [
              0.2222222222222222,
              "#7201a8"
             ],
             [
              0.3333333333333333,
              "#9c179e"
             ],
             [
              0.4444444444444444,
              "#bd3786"
             ],
             [
              0.5555555555555556,
              "#d8576b"
             ],
             [
              0.6666666666666666,
              "#ed7953"
             ],
             [
              0.7777777777777778,
              "#fb9f3a"
             ],
             [
              0.8888888888888888,
              "#fdca26"
             ],
             [
              1,
              "#f0f921"
             ]
            ],
            "type": "contour"
           }
          ],
          "contourcarpet": [
           {
            "colorbar": {
             "outlinewidth": 0,
             "ticks": ""
            },
            "type": "contourcarpet"
           }
          ],
          "heatmap": [
           {
            "colorbar": {
             "outlinewidth": 0,
             "ticks": ""
            },
            "colorscale": [
             [
              0,
              "#0d0887"
             ],
             [
              0.1111111111111111,
              "#46039f"
             ],
             [
              0.2222222222222222,
              "#7201a8"
             ],
             [
              0.3333333333333333,
              "#9c179e"
             ],
             [
              0.4444444444444444,
              "#bd3786"
             ],
             [
              0.5555555555555556,
              "#d8576b"
             ],
             [
              0.6666666666666666,
              "#ed7953"
             ],
             [
              0.7777777777777778,
              "#fb9f3a"
             ],
             [
              0.8888888888888888,
              "#fdca26"
             ],
             [
              1,
              "#f0f921"
             ]
            ],
            "type": "heatmap"
           }
          ],
          "heatmapgl": [
           {
            "colorbar": {
             "outlinewidth": 0,
             "ticks": ""
            },
            "colorscale": [
             [
              0,
              "#0d0887"
             ],
             [
              0.1111111111111111,
              "#46039f"
             ],
             [
              0.2222222222222222,
              "#7201a8"
             ],
             [
              0.3333333333333333,
              "#9c179e"
             ],
             [
              0.4444444444444444,
              "#bd3786"
             ],
             [
              0.5555555555555556,
              "#d8576b"
             ],
             [
              0.6666666666666666,
              "#ed7953"
             ],
             [
              0.7777777777777778,
              "#fb9f3a"
             ],
             [
              0.8888888888888888,
              "#fdca26"
             ],
             [
              1,
              "#f0f921"
             ]
            ],
            "type": "heatmapgl"
           }
          ],
          "histogram": [
           {
            "marker": {
             "pattern": {
              "fillmode": "overlay",
              "size": 10,
              "solidity": 0.2
             }
            },
            "type": "histogram"
           }
          ],
          "histogram2d": [
           {
            "colorbar": {
             "outlinewidth": 0,
             "ticks": ""
            },
            "colorscale": [
             [
              0,
              "#0d0887"
             ],
             [
              0.1111111111111111,
              "#46039f"
             ],
             [
              0.2222222222222222,
              "#7201a8"
             ],
             [
              0.3333333333333333,
              "#9c179e"
             ],
             [
              0.4444444444444444,
              "#bd3786"
             ],
             [
              0.5555555555555556,
              "#d8576b"
             ],
             [
              0.6666666666666666,
              "#ed7953"
             ],
             [
              0.7777777777777778,
              "#fb9f3a"
             ],
             [
              0.8888888888888888,
              "#fdca26"
             ],
             [
              1,
              "#f0f921"
             ]
            ],
            "type": "histogram2d"
           }
          ],
          "histogram2dcontour": [
           {
            "colorbar": {
             "outlinewidth": 0,
             "ticks": ""
            },
            "colorscale": [
             [
              0,
              "#0d0887"
             ],
             [
              0.1111111111111111,
              "#46039f"
             ],
             [
              0.2222222222222222,
              "#7201a8"
             ],
             [
              0.3333333333333333,
              "#9c179e"
             ],
             [
              0.4444444444444444,
              "#bd3786"
             ],
             [
              0.5555555555555556,
              "#d8576b"
             ],
             [
              0.6666666666666666,
              "#ed7953"
             ],
             [
              0.7777777777777778,
              "#fb9f3a"
             ],
             [
              0.8888888888888888,
              "#fdca26"
             ],
             [
              1,
              "#f0f921"
             ]
            ],
            "type": "histogram2dcontour"
           }
          ],
          "mesh3d": [
           {
            "colorbar": {
             "outlinewidth": 0,
             "ticks": ""
            },
            "type": "mesh3d"
           }
          ],
          "parcoords": [
           {
            "line": {
             "colorbar": {
              "outlinewidth": 0,
              "ticks": ""
             }
            },
            "type": "parcoords"
           }
          ],
          "pie": [
           {
            "automargin": true,
            "type": "pie"
           }
          ],
          "scatter": [
           {
            "fillpattern": {
             "fillmode": "overlay",
             "size": 10,
             "solidity": 0.2
            },
            "type": "scatter"
           }
          ],
          "scatter3d": [
           {
            "line": {
             "colorbar": {
              "outlinewidth": 0,
              "ticks": ""
             }
            },
            "marker": {
             "colorbar": {
              "outlinewidth": 0,
              "ticks": ""
             }
            },
            "type": "scatter3d"
           }
          ],
          "scattercarpet": [
           {
            "marker": {
             "colorbar": {
              "outlinewidth": 0,
              "ticks": ""
             }
            },
            "type": "scattercarpet"
           }
          ],
          "scattergeo": [
           {
            "marker": {
             "colorbar": {
              "outlinewidth": 0,
              "ticks": ""
             }
            },
            "type": "scattergeo"
           }
          ],
          "scattergl": [
           {
            "marker": {
             "colorbar": {
              "outlinewidth": 0,
              "ticks": ""
             }
            },
            "type": "scattergl"
           }
          ],
          "scattermapbox": [
           {
            "marker": {
             "colorbar": {
              "outlinewidth": 0,
              "ticks": ""
             }
            },
            "type": "scattermapbox"
           }
          ],
          "scatterpolar": [
           {
            "marker": {
             "colorbar": {
              "outlinewidth": 0,
              "ticks": ""
             }
            },
            "type": "scatterpolar"
           }
          ],
          "scatterpolargl": [
           {
            "marker": {
             "colorbar": {
              "outlinewidth": 0,
              "ticks": ""
             }
            },
            "type": "scatterpolargl"
           }
          ],
          "scatterternary": [
           {
            "marker": {
             "colorbar": {
              "outlinewidth": 0,
              "ticks": ""
             }
            },
            "type": "scatterternary"
           }
          ],
          "surface": [
           {
            "colorbar": {
             "outlinewidth": 0,
             "ticks": ""
            },
            "colorscale": [
             [
              0,
              "#0d0887"
             ],
             [
              0.1111111111111111,
              "#46039f"
             ],
             [
              0.2222222222222222,
              "#7201a8"
             ],
             [
              0.3333333333333333,
              "#9c179e"
             ],
             [
              0.4444444444444444,
              "#bd3786"
             ],
             [
              0.5555555555555556,
              "#d8576b"
             ],
             [
              0.6666666666666666,
              "#ed7953"
             ],
             [
              0.7777777777777778,
              "#fb9f3a"
             ],
             [
              0.8888888888888888,
              "#fdca26"
             ],
             [
              1,
              "#f0f921"
             ]
            ],
            "type": "surface"
           }
          ],
          "table": [
           {
            "cells": {
             "fill": {
              "color": "#EBF0F8"
             },
             "line": {
              "color": "white"
             }
            },
            "header": {
             "fill": {
              "color": "#C8D4E3"
             },
             "line": {
              "color": "white"
             }
            },
            "type": "table"
           }
          ]
         },
         "layout": {
          "annotationdefaults": {
           "arrowcolor": "#2a3f5f",
           "arrowhead": 0,
           "arrowwidth": 1
          },
          "autotypenumbers": "strict",
          "coloraxis": {
           "colorbar": {
            "outlinewidth": 0,
            "ticks": ""
           }
          },
          "colorscale": {
           "diverging": [
            [
             0,
             "#8e0152"
            ],
            [
             0.1,
             "#c51b7d"
            ],
            [
             0.2,
             "#de77ae"
            ],
            [
             0.3,
             "#f1b6da"
            ],
            [
             0.4,
             "#fde0ef"
            ],
            [
             0.5,
             "#f7f7f7"
            ],
            [
             0.6,
             "#e6f5d0"
            ],
            [
             0.7,
             "#b8e186"
            ],
            [
             0.8,
             "#7fbc41"
            ],
            [
             0.9,
             "#4d9221"
            ],
            [
             1,
             "#276419"
            ]
           ],
           "sequential": [
            [
             0,
             "#0d0887"
            ],
            [
             0.1111111111111111,
             "#46039f"
            ],
            [
             0.2222222222222222,
             "#7201a8"
            ],
            [
             0.3333333333333333,
             "#9c179e"
            ],
            [
             0.4444444444444444,
             "#bd3786"
            ],
            [
             0.5555555555555556,
             "#d8576b"
            ],
            [
             0.6666666666666666,
             "#ed7953"
            ],
            [
             0.7777777777777778,
             "#fb9f3a"
            ],
            [
             0.8888888888888888,
             "#fdca26"
            ],
            [
             1,
             "#f0f921"
            ]
           ],
           "sequentialminus": [
            [
             0,
             "#0d0887"
            ],
            [
             0.1111111111111111,
             "#46039f"
            ],
            [
             0.2222222222222222,
             "#7201a8"
            ],
            [
             0.3333333333333333,
             "#9c179e"
            ],
            [
             0.4444444444444444,
             "#bd3786"
            ],
            [
             0.5555555555555556,
             "#d8576b"
            ],
            [
             0.6666666666666666,
             "#ed7953"
            ],
            [
             0.7777777777777778,
             "#fb9f3a"
            ],
            [
             0.8888888888888888,
             "#fdca26"
            ],
            [
             1,
             "#f0f921"
            ]
           ]
          },
          "colorway": [
           "#636efa",
           "#EF553B",
           "#00cc96",
           "#ab63fa",
           "#FFA15A",
           "#19d3f3",
           "#FF6692",
           "#B6E880",
           "#FF97FF",
           "#FECB52"
          ],
          "font": {
           "color": "#2a3f5f"
          },
          "geo": {
           "bgcolor": "white",
           "lakecolor": "white",
           "landcolor": "white",
           "showlakes": true,
           "showland": true,
           "subunitcolor": "#C8D4E3"
          },
          "hoverlabel": {
           "align": "left"
          },
          "hovermode": "closest",
          "mapbox": {
           "style": "light"
          },
          "paper_bgcolor": "white",
          "plot_bgcolor": "white",
          "polar": {
           "angularaxis": {
            "gridcolor": "#EBF0F8",
            "linecolor": "#EBF0F8",
            "ticks": ""
           },
           "bgcolor": "white",
           "radialaxis": {
            "gridcolor": "#EBF0F8",
            "linecolor": "#EBF0F8",
            "ticks": ""
           }
          },
          "scene": {
           "xaxis": {
            "backgroundcolor": "white",
            "gridcolor": "#DFE8F3",
            "gridwidth": 2,
            "linecolor": "#EBF0F8",
            "showbackground": true,
            "ticks": "",
            "zerolinecolor": "#EBF0F8"
           },
           "yaxis": {
            "backgroundcolor": "white",
            "gridcolor": "#DFE8F3",
            "gridwidth": 2,
            "linecolor": "#EBF0F8",
            "showbackground": true,
            "ticks": "",
            "zerolinecolor": "#EBF0F8"
           },
           "zaxis": {
            "backgroundcolor": "white",
            "gridcolor": "#DFE8F3",
            "gridwidth": 2,
            "linecolor": "#EBF0F8",
            "showbackground": true,
            "ticks": "",
            "zerolinecolor": "#EBF0F8"
           }
          },
          "shapedefaults": {
           "line": {
            "color": "#2a3f5f"
           }
          },
          "ternary": {
           "aaxis": {
            "gridcolor": "#DFE8F3",
            "linecolor": "#A2B1C6",
            "ticks": ""
           },
           "baxis": {
            "gridcolor": "#DFE8F3",
            "linecolor": "#A2B1C6",
            "ticks": ""
           },
           "bgcolor": "white",
           "caxis": {
            "gridcolor": "#DFE8F3",
            "linecolor": "#A2B1C6",
            "ticks": ""
           }
          },
          "title": {
           "x": 0.05
          },
          "xaxis": {
           "automargin": true,
           "gridcolor": "#EBF0F8",
           "linecolor": "#EBF0F8",
           "ticks": "",
           "title": {
            "standoff": 15
           },
           "zerolinecolor": "#EBF0F8",
           "zerolinewidth": 2
          },
          "yaxis": {
           "automargin": true,
           "gridcolor": "#EBF0F8",
           "linecolor": "#EBF0F8",
           "ticks": "",
           "title": {
            "standoff": 15
           },
           "zerolinecolor": "#EBF0F8",
           "zerolinewidth": 2
          }
         }
        },
        "title": {
         "text": "Loan Amount Distribution"
        },
        "xaxis": {
         "anchor": "y",
         "domain": [
          0,
          1
         ],
         "title": {
          "text": "Loan Amount"
         }
        },
        "yaxis": {
         "anchor": "x",
         "domain": [
          0,
          1
         ],
         "title": {
          "text": "count"
         }
        }
       }
      }
     },
     "metadata": {},
     "output_type": "display_data"
    }
   ],
   "source": [
    "# 'data' is DataFrame and 'Loan Amount' is the column name\n",
    "loan_amount_fig = px.histogram(data, x='Loan Amount', nbins=20, title='Loan Amount Distribution')\n",
    "\n",
    "# Display the plot\n",
    "loan_amount_fig.show()"
   ]
  },
  {
   "cell_type": "markdown",
   "metadata": {},
   "source": [
    "The correlation in the data:"
   ]
  },
  {
   "cell_type": "code",
   "execution_count": 12,
   "metadata": {},
   "outputs": [
    {
     "data": {
      "application/vnd.plotly.v1+json": {
       "config": {
        "plotlyServerURL": "https://plot.ly"
       },
       "data": [
        {
         "coloraxis": "coloraxis",
         "hovertemplate": "x: %{x}<br>y: %{y}<br>color: %{z}<extra></extra>",
         "name": "0",
         "type": "heatmap",
         "x": [
          "Credit Utilization Ratio",
          "Payment History",
          "Number of Credit Accounts",
          "Loan Amount",
          "Interest Rate",
          "Loan Term"
         ],
         "xaxis": "x",
         "y": [
          "Credit Utilization Ratio",
          "Payment History",
          "Number of Credit Accounts",
          "Loan Amount",
          "Interest Rate",
          "Loan Term"
         ],
         "yaxis": "y",
         "z": [
          [
           1,
           0.0021141964664825558,
           -0.0018417352448918448,
           -0.014918441087073266,
           0.04823694488220739,
           -0.02292437660519626
          ],
          [
           0.0021141964664825558,
           1,
           0.025022343665911207,
           -0.01908376738110175,
           -0.017618250959028903,
           -0.045531973089473786
          ],
          [
           -0.0018417352448918448,
           0.025022343665911207,
           1,
           0.03223218947381575,
           -0.0010828602014753936,
           0.012793615844397942
          ],
          [
           -0.014918441087073266,
           -0.01908376738110175,
           0.03223218947381575,
           1,
           0.04528807708804023,
           0.014282992331967325
          ],
          [
           0.04823694488220739,
           -0.017618250959028903,
           -0.0010828602014753936,
           0.04528807708804023,
           1,
           0.028189737847988432
          ],
          [
           -0.02292437660519626,
           -0.045531973089473786,
           0.012793615844397942,
           0.014282992331967325,
           0.028189737847988432,
           1
          ]
         ]
        }
       ],
       "layout": {
        "coloraxis": {
         "colorscale": [
          [
           0,
           "#0d0887"
          ],
          [
           0.1111111111111111,
           "#46039f"
          ],
          [
           0.2222222222222222,
           "#7201a8"
          ],
          [
           0.3333333333333333,
           "#9c179e"
          ],
          [
           0.4444444444444444,
           "#bd3786"
          ],
          [
           0.5555555555555556,
           "#d8576b"
          ],
          [
           0.6666666666666666,
           "#ed7953"
          ],
          [
           0.7777777777777778,
           "#fb9f3a"
          ],
          [
           0.8888888888888888,
           "#fdca26"
          ],
          [
           1,
           "#f0f921"
          ]
         ]
        },
        "template": {
         "data": {
          "bar": [
           {
            "error_x": {
             "color": "#2a3f5f"
            },
            "error_y": {
             "color": "#2a3f5f"
            },
            "marker": {
             "line": {
              "color": "white",
              "width": 0.5
             },
             "pattern": {
              "fillmode": "overlay",
              "size": 10,
              "solidity": 0.2
             }
            },
            "type": "bar"
           }
          ],
          "barpolar": [
           {
            "marker": {
             "line": {
              "color": "white",
              "width": 0.5
             },
             "pattern": {
              "fillmode": "overlay",
              "size": 10,
              "solidity": 0.2
             }
            },
            "type": "barpolar"
           }
          ],
          "carpet": [
           {
            "aaxis": {
             "endlinecolor": "#2a3f5f",
             "gridcolor": "#C8D4E3",
             "linecolor": "#C8D4E3",
             "minorgridcolor": "#C8D4E3",
             "startlinecolor": "#2a3f5f"
            },
            "baxis": {
             "endlinecolor": "#2a3f5f",
             "gridcolor": "#C8D4E3",
             "linecolor": "#C8D4E3",
             "minorgridcolor": "#C8D4E3",
             "startlinecolor": "#2a3f5f"
            },
            "type": "carpet"
           }
          ],
          "choropleth": [
           {
            "colorbar": {
             "outlinewidth": 0,
             "ticks": ""
            },
            "type": "choropleth"
           }
          ],
          "contour": [
           {
            "colorbar": {
             "outlinewidth": 0,
             "ticks": ""
            },
            "colorscale": [
             [
              0,
              "#0d0887"
             ],
             [
              0.1111111111111111,
              "#46039f"
             ],
             [
              0.2222222222222222,
              "#7201a8"
             ],
             [
              0.3333333333333333,
              "#9c179e"
             ],
             [
              0.4444444444444444,
              "#bd3786"
             ],
             [
              0.5555555555555556,
              "#d8576b"
             ],
             [
              0.6666666666666666,
              "#ed7953"
             ],
             [
              0.7777777777777778,
              "#fb9f3a"
             ],
             [
              0.8888888888888888,
              "#fdca26"
             ],
             [
              1,
              "#f0f921"
             ]
            ],
            "type": "contour"
           }
          ],
          "contourcarpet": [
           {
            "colorbar": {
             "outlinewidth": 0,
             "ticks": ""
            },
            "type": "contourcarpet"
           }
          ],
          "heatmap": [
           {
            "colorbar": {
             "outlinewidth": 0,
             "ticks": ""
            },
            "colorscale": [
             [
              0,
              "#0d0887"
             ],
             [
              0.1111111111111111,
              "#46039f"
             ],
             [
              0.2222222222222222,
              "#7201a8"
             ],
             [
              0.3333333333333333,
              "#9c179e"
             ],
             [
              0.4444444444444444,
              "#bd3786"
             ],
             [
              0.5555555555555556,
              "#d8576b"
             ],
             [
              0.6666666666666666,
              "#ed7953"
             ],
             [
              0.7777777777777778,
              "#fb9f3a"
             ],
             [
              0.8888888888888888,
              "#fdca26"
             ],
             [
              1,
              "#f0f921"
             ]
            ],
            "type": "heatmap"
           }
          ],
          "heatmapgl": [
           {
            "colorbar": {
             "outlinewidth": 0,
             "ticks": ""
            },
            "colorscale": [
             [
              0,
              "#0d0887"
             ],
             [
              0.1111111111111111,
              "#46039f"
             ],
             [
              0.2222222222222222,
              "#7201a8"
             ],
             [
              0.3333333333333333,
              "#9c179e"
             ],
             [
              0.4444444444444444,
              "#bd3786"
             ],
             [
              0.5555555555555556,
              "#d8576b"
             ],
             [
              0.6666666666666666,
              "#ed7953"
             ],
             [
              0.7777777777777778,
              "#fb9f3a"
             ],
             [
              0.8888888888888888,
              "#fdca26"
             ],
             [
              1,
              "#f0f921"
             ]
            ],
            "type": "heatmapgl"
           }
          ],
          "histogram": [
           {
            "marker": {
             "pattern": {
              "fillmode": "overlay",
              "size": 10,
              "solidity": 0.2
             }
            },
            "type": "histogram"
           }
          ],
          "histogram2d": [
           {
            "colorbar": {
             "outlinewidth": 0,
             "ticks": ""
            },
            "colorscale": [
             [
              0,
              "#0d0887"
             ],
             [
              0.1111111111111111,
              "#46039f"
             ],
             [
              0.2222222222222222,
              "#7201a8"
             ],
             [
              0.3333333333333333,
              "#9c179e"
             ],
             [
              0.4444444444444444,
              "#bd3786"
             ],
             [
              0.5555555555555556,
              "#d8576b"
             ],
             [
              0.6666666666666666,
              "#ed7953"
             ],
             [
              0.7777777777777778,
              "#fb9f3a"
             ],
             [
              0.8888888888888888,
              "#fdca26"
             ],
             [
              1,
              "#f0f921"
             ]
            ],
            "type": "histogram2d"
           }
          ],
          "histogram2dcontour": [
           {
            "colorbar": {
             "outlinewidth": 0,
             "ticks": ""
            },
            "colorscale": [
             [
              0,
              "#0d0887"
             ],
             [
              0.1111111111111111,
              "#46039f"
             ],
             [
              0.2222222222222222,
              "#7201a8"
             ],
             [
              0.3333333333333333,
              "#9c179e"
             ],
             [
              0.4444444444444444,
              "#bd3786"
             ],
             [
              0.5555555555555556,
              "#d8576b"
             ],
             [
              0.6666666666666666,
              "#ed7953"
             ],
             [
              0.7777777777777778,
              "#fb9f3a"
             ],
             [
              0.8888888888888888,
              "#fdca26"
             ],
             [
              1,
              "#f0f921"
             ]
            ],
            "type": "histogram2dcontour"
           }
          ],
          "mesh3d": [
           {
            "colorbar": {
             "outlinewidth": 0,
             "ticks": ""
            },
            "type": "mesh3d"
           }
          ],
          "parcoords": [
           {
            "line": {
             "colorbar": {
              "outlinewidth": 0,
              "ticks": ""
             }
            },
            "type": "parcoords"
           }
          ],
          "pie": [
           {
            "automargin": true,
            "type": "pie"
           }
          ],
          "scatter": [
           {
            "fillpattern": {
             "fillmode": "overlay",
             "size": 10,
             "solidity": 0.2
            },
            "type": "scatter"
           }
          ],
          "scatter3d": [
           {
            "line": {
             "colorbar": {
              "outlinewidth": 0,
              "ticks": ""
             }
            },
            "marker": {
             "colorbar": {
              "outlinewidth": 0,
              "ticks": ""
             }
            },
            "type": "scatter3d"
           }
          ],
          "scattercarpet": [
           {
            "marker": {
             "colorbar": {
              "outlinewidth": 0,
              "ticks": ""
             }
            },
            "type": "scattercarpet"
           }
          ],
          "scattergeo": [
           {
            "marker": {
             "colorbar": {
              "outlinewidth": 0,
              "ticks": ""
             }
            },
            "type": "scattergeo"
           }
          ],
          "scattergl": [
           {
            "marker": {
             "colorbar": {
              "outlinewidth": 0,
              "ticks": ""
             }
            },
            "type": "scattergl"
           }
          ],
          "scattermapbox": [
           {
            "marker": {
             "colorbar": {
              "outlinewidth": 0,
              "ticks": ""
             }
            },
            "type": "scattermapbox"
           }
          ],
          "scatterpolar": [
           {
            "marker": {
             "colorbar": {
              "outlinewidth": 0,
              "ticks": ""
             }
            },
            "type": "scatterpolar"
           }
          ],
          "scatterpolargl": [
           {
            "marker": {
             "colorbar": {
              "outlinewidth": 0,
              "ticks": ""
             }
            },
            "type": "scatterpolargl"
           }
          ],
          "scatterternary": [
           {
            "marker": {
             "colorbar": {
              "outlinewidth": 0,
              "ticks": ""
             }
            },
            "type": "scatterternary"
           }
          ],
          "surface": [
           {
            "colorbar": {
             "outlinewidth": 0,
             "ticks": ""
            },
            "colorscale": [
             [
              0,
              "#0d0887"
             ],
             [
              0.1111111111111111,
              "#46039f"
             ],
             [
              0.2222222222222222,
              "#7201a8"
             ],
             [
              0.3333333333333333,
              "#9c179e"
             ],
             [
              0.4444444444444444,
              "#bd3786"
             ],
             [
              0.5555555555555556,
              "#d8576b"
             ],
             [
              0.6666666666666666,
              "#ed7953"
             ],
             [
              0.7777777777777778,
              "#fb9f3a"
             ],
             [
              0.8888888888888888,
              "#fdca26"
             ],
             [
              1,
              "#f0f921"
             ]
            ],
            "type": "surface"
           }
          ],
          "table": [
           {
            "cells": {
             "fill": {
              "color": "#EBF0F8"
             },
             "line": {
              "color": "white"
             }
            },
            "header": {
             "fill": {
              "color": "#C8D4E3"
             },
             "line": {
              "color": "white"
             }
            },
            "type": "table"
           }
          ]
         },
         "layout": {
          "annotationdefaults": {
           "arrowcolor": "#2a3f5f",
           "arrowhead": 0,
           "arrowwidth": 1
          },
          "autotypenumbers": "strict",
          "coloraxis": {
           "colorbar": {
            "outlinewidth": 0,
            "ticks": ""
           }
          },
          "colorscale": {
           "diverging": [
            [
             0,
             "#8e0152"
            ],
            [
             0.1,
             "#c51b7d"
            ],
            [
             0.2,
             "#de77ae"
            ],
            [
             0.3,
             "#f1b6da"
            ],
            [
             0.4,
             "#fde0ef"
            ],
            [
             0.5,
             "#f7f7f7"
            ],
            [
             0.6,
             "#e6f5d0"
            ],
            [
             0.7,
             "#b8e186"
            ],
            [
             0.8,
             "#7fbc41"
            ],
            [
             0.9,
             "#4d9221"
            ],
            [
             1,
             "#276419"
            ]
           ],
           "sequential": [
            [
             0,
             "#0d0887"
            ],
            [
             0.1111111111111111,
             "#46039f"
            ],
            [
             0.2222222222222222,
             "#7201a8"
            ],
            [
             0.3333333333333333,
             "#9c179e"
            ],
            [
             0.4444444444444444,
             "#bd3786"
            ],
            [
             0.5555555555555556,
             "#d8576b"
            ],
            [
             0.6666666666666666,
             "#ed7953"
            ],
            [
             0.7777777777777778,
             "#fb9f3a"
            ],
            [
             0.8888888888888888,
             "#fdca26"
            ],
            [
             1,
             "#f0f921"
            ]
           ],
           "sequentialminus": [
            [
             0,
             "#0d0887"
            ],
            [
             0.1111111111111111,
             "#46039f"
            ],
            [
             0.2222222222222222,
             "#7201a8"
            ],
            [
             0.3333333333333333,
             "#9c179e"
            ],
            [
             0.4444444444444444,
             "#bd3786"
            ],
            [
             0.5555555555555556,
             "#d8576b"
            ],
            [
             0.6666666666666666,
             "#ed7953"
            ],
            [
             0.7777777777777778,
             "#fb9f3a"
            ],
            [
             0.8888888888888888,
             "#fdca26"
            ],
            [
             1,
             "#f0f921"
            ]
           ]
          },
          "colorway": [
           "#636efa",
           "#EF553B",
           "#00cc96",
           "#ab63fa",
           "#FFA15A",
           "#19d3f3",
           "#FF6692",
           "#B6E880",
           "#FF97FF",
           "#FECB52"
          ],
          "font": {
           "color": "#2a3f5f"
          },
          "geo": {
           "bgcolor": "white",
           "lakecolor": "white",
           "landcolor": "white",
           "showlakes": true,
           "showland": true,
           "subunitcolor": "#C8D4E3"
          },
          "hoverlabel": {
           "align": "left"
          },
          "hovermode": "closest",
          "mapbox": {
           "style": "light"
          },
          "paper_bgcolor": "white",
          "plot_bgcolor": "white",
          "polar": {
           "angularaxis": {
            "gridcolor": "#EBF0F8",
            "linecolor": "#EBF0F8",
            "ticks": ""
           },
           "bgcolor": "white",
           "radialaxis": {
            "gridcolor": "#EBF0F8",
            "linecolor": "#EBF0F8",
            "ticks": ""
           }
          },
          "scene": {
           "xaxis": {
            "backgroundcolor": "white",
            "gridcolor": "#DFE8F3",
            "gridwidth": 2,
            "linecolor": "#EBF0F8",
            "showbackground": true,
            "ticks": "",
            "zerolinecolor": "#EBF0F8"
           },
           "yaxis": {
            "backgroundcolor": "white",
            "gridcolor": "#DFE8F3",
            "gridwidth": 2,
            "linecolor": "#EBF0F8",
            "showbackground": true,
            "ticks": "",
            "zerolinecolor": "#EBF0F8"
           },
           "zaxis": {
            "backgroundcolor": "white",
            "gridcolor": "#DFE8F3",
            "gridwidth": 2,
            "linecolor": "#EBF0F8",
            "showbackground": true,
            "ticks": "",
            "zerolinecolor": "#EBF0F8"
           }
          },
          "shapedefaults": {
           "line": {
            "color": "#2a3f5f"
           }
          },
          "ternary": {
           "aaxis": {
            "gridcolor": "#DFE8F3",
            "linecolor": "#A2B1C6",
            "ticks": ""
           },
           "baxis": {
            "gridcolor": "#DFE8F3",
            "linecolor": "#A2B1C6",
            "ticks": ""
           },
           "bgcolor": "white",
           "caxis": {
            "gridcolor": "#DFE8F3",
            "linecolor": "#A2B1C6",
            "ticks": ""
           }
          },
          "title": {
           "x": 0.05
          },
          "xaxis": {
           "automargin": true,
           "gridcolor": "#EBF0F8",
           "linecolor": "#EBF0F8",
           "ticks": "",
           "title": {
            "standoff": 15
           },
           "zerolinecolor": "#EBF0F8",
           "zerolinewidth": 2
          },
          "yaxis": {
           "automargin": true,
           "gridcolor": "#EBF0F8",
           "linecolor": "#EBF0F8",
           "ticks": "",
           "title": {
            "standoff": 15
           },
           "zerolinecolor": "#EBF0F8",
           "zerolinewidth": 2
          }
         }
        },
        "title": {
         "text": "Correlation Heatmap"
        },
        "xaxis": {
         "anchor": "y",
         "constrain": "domain",
         "domain": [
          0,
          1
         ],
         "scaleanchor": "y"
        },
        "yaxis": {
         "anchor": "x",
         "autorange": "reversed",
         "constrain": "domain",
         "domain": [
          0,
          1
         ]
        }
       }
      }
     },
     "metadata": {},
     "output_type": "display_data"
    }
   ],
   "source": [
    "# Select numeric columns for correlation analysis\n",
    "numeric_df = data[['Credit Utilization Ratio', \n",
    "                   'Payment History', \n",
    "                   'Number of Credit Accounts', \n",
    "                   'Loan Amount', 'Interest Rate', \n",
    "                   'Loan Term']]\n",
    "\n",
    "# Calculate the correlation matrix\n",
    "correlation_matrix = numeric_df.corr()\n",
    "\n",
    "# Create and display the correlation heatmap\n",
    "correlation_fig = px.imshow(correlation_matrix, title='Correlation Heatmap')\n",
    "correlation_fig.show()"
   ]
  }
 ],
 "metadata": {
  "kernelspec": {
   "display_name": "Python 3",
   "language": "python",
   "name": "python3"
  },
  "language_info": {
   "codemirror_mode": {
    "name": "ipython",
    "version": 3
   },
   "file_extension": ".py",
   "mimetype": "text/x-python",
   "name": "python",
   "nbconvert_exporter": "python",
   "pygments_lexer": "ipython3",
   "version": "3.9.16"
  },
  "orig_nbformat": 4
 },
 "nbformat": 4,
 "nbformat_minor": 2
}
